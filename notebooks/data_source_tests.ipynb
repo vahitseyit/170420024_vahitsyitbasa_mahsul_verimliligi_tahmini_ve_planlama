{
 "cells": [
  {
   "cell_type": "code",
   "execution_count": 1,
   "metadata": {},
   "outputs": [
    {
     "data": {
      "text/plain": [
       "{'cells': [{'cell_type': 'markdown',\n",
       "   'metadata': {},\n",
       "   'source': ['# Veri Kaynakları Test Notebooksu\\n',\n",
       "    '\\n',\n",
       "    \"Bu notebook'ta her bir veri kaynağından (Sentinel-2, USDA, iklim) örnek veri çekip çıktıları inceleyeceğiz.\\n\",\n",
       "    '\\n',\n",
       "    '- Her veri kaynağı için ayrı bir hücrede test\\n',\n",
       "    '- Çıktılar ekrana yazdırılacak\\n',\n",
       "    '- Kodlar modüler ve sade olacak\\n',\n",
       "    '\\n',\n",
       "    '> Not: Sentinel-2 için Earth Engine yerine sentinelsat alternatifi de ayrıca eklenecek.\\n']},\n",
       "  {'cell_type': 'code',\n",
       "   'metadata': {},\n",
       "   'source': ['# Gerekli paketleri yükle (gerekirse)\\n',\n",
       "    '# !pip install pandas requests sentinelsat\\n',\n",
       "    'import os\\n',\n",
       "    'import pandas as pd\\n']}],\n",
       " 'metadata': {'kernelspec': {'display_name': 'Python 3',\n",
       "   'language': 'python',\n",
       "   'name': 'python3'},\n",
       "  'language_info': {'name': 'python', 'version': '3.8'}},\n",
       " 'nbformat': 4,\n",
       " 'nbformat_minor': 2}"
      ]
     },
     "execution_count": 1,
     "metadata": {},
     "output_type": "execute_result"
    }
   ],
   "source": [
    "{\n",
    " \"cells\": [\n",
    "  {\n",
    "   \"cell_type\": \"markdown\",\n",
    "   \"metadata\": {},\n",
    "   \"source\": [\n",
    "    \"# Veri Kaynakları Test Notebooksu\\n\",\n",
    "    \"\\n\",\n",
    "    \"Bu notebook'ta her bir veri kaynağından (Sentinel-2, USDA, iklim) örnek veri çekip çıktıları inceleyeceğiz.\\n\",\n",
    "    \"\\n\",\n",
    "    \"- Her veri kaynağı için ayrı bir hücrede test\\n\",\n",
    "    \"- Çıktılar ekrana yazdırılacak\\n\",\n",
    "    \"- Kodlar modüler ve sade olacak\\n\",\n",
    "    \"\\n\",\n",
    "    \"> Not: Sentinel-2 için Earth Engine yerine sentinelsat alternatifi de ayrıca eklenecek.\\n\"\n",
    "   ]\n",
    "  },\n",
    "  {\n",
    "   \"cell_type\": \"code\",\n",
    "   \"metadata\": {},\n",
    "   \"source\": [\n",
    "    \"# Gerekli paketleri yükle (gerekirse)\\n\",\n",
    "    \"# !pip install pandas requests sentinelsat\\n\",\n",
    "    \"import os\\n\",\n",
    "    \"import pandas as pd\\n\"\n",
    "   ]\n",
    "  }\n",
    " ],\n",
    " \"metadata\": {\n",
    "  \"kernelspec\": {\n",
    "   \"display_name\": \"Python 3\",\n",
    "   \"language\": \"python\",\n",
    "   \"name\": \"python3\"\n",
    "  },\n",
    "  \"language_info\": {\n",
    "   \"name\": \"python\",\n",
    "   \"version\": \"3.8\"\n",
    "  }\n",
    " },\n",
    " \"nbformat\": 4,\n",
    " \"nbformat_minor\": 2\n",
    "}\n"
   ]
  },
  {
   "cell_type": "code",
   "execution_count": null,
   "metadata": {},
   "outputs": [],
   "source": []
  }
 ],
 "metadata": {
  "kernelspec": {
   "display_name": "Python 3 (agri-venv)",
   "language": "python",
   "name": "agri-venv"
  },
  "language_info": {
   "codemirror_mode": {
    "name": "ipython",
    "version": 3
   },
   "file_extension": ".py",
   "mimetype": "text/x-python",
   "name": "python",
   "nbconvert_exporter": "python",
   "pygments_lexer": "ipython3",
   "version": "3.12.3"
  }
 },
 "nbformat": 4,
 "nbformat_minor": 4
}
